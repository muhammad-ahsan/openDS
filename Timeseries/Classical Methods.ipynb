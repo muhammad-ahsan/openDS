{
 "cells": [
  {
   "cell_type": "raw",
   "source": [
    "Methods to Check Stationarity\n",
    "    Visual Test\n",
    "    ADF Test\n",
    "    KPSS Test\n",
    "\n",
    "Types of Stationarity\n",
    "    Strict Stationary\n",
    "    Trend Stationary\n",
    "    Difference Stationary\n",
    "\n",
    "Making a Time Series Stationary\n",
    "    Differencing\n",
    "    Seasonal Differencing\n",
    "    Log transform"
   ],
   "metadata": {
    "collapsed": false
   }
  },
  {
   "cell_type": "code",
   "execution_count": 19,
   "outputs": [],
   "source": [
    "# Reference:\n",
    "# https://www.analyticsvidhya.com/blog/2018/09/non-stationary-time-series-python/\n",
    "# https://www.youtube.com/watch?v=e8Yw4alG16Q"
   ],
   "metadata": {
    "collapsed": false,
    "pycharm": {
     "name": "#%%\n"
    }
   }
  },
  {
   "cell_type": "code",
   "execution_count": 1,
   "outputs": [
    {
     "data": {
      "text/plain": "0     1950-01-01\n1     1950-02-01\n2     1950-03-01\n3     1950-04-01\n4     1950-05-01\n         ...    \n813   2017-10-01\n814   2017-11-01\n815   2017-12-01\n816   2018-01-01\n817   2018-02-01\nName: date, Length: 818, dtype: datetime64[ns]"
     },
     "execution_count": 1,
     "metadata": {},
     "output_type": "execute_result"
    }
   ],
   "source": [
    "import matplotlib.pyplot as plt\n",
    "import pandas as pd\n",
    "\n",
    "df = pd.read_csv('data/gold_prices_usd.csv')\n",
    "df.head()\n",
    "\n",
    "pd.to_datetime(df.date, infer_datetime_format=True)"
   ],
   "metadata": {
    "collapsed": false,
    "pycharm": {
     "name": "#%%\n"
    }
   }
  },
  {
   "cell_type": "markdown",
   "source": [
    "# Methods to Check Stationarity"
   ],
   "metadata": {
    "collapsed": false
   }
  },
  {
   "cell_type": "markdown",
   "source": [
    "### Visual Test"
   ],
   "metadata": {
    "collapsed": false
   }
  },
  {
   "cell_type": "raw",
   "source": [
    "Non-stationary timeseries as mean and variance are not constant."
   ],
   "metadata": {
    "collapsed": false,
    "pycharm": {
     "name": "#%% raw\n"
    }
   }
  },
  {
   "cell_type": "code",
   "execution_count": 14,
   "outputs": [
    {
     "data": {
      "text/plain": "<Figure size 1440x360 with 1 Axes>",
      "image/png": "[encoded data removed]"
     },
     "metadata": {
      "needs_background": "light"
     },
     "output_type": "display_data"
    }
   ],
   "source": [
    "from matplotlib import pyplot as plt\n",
    "\n",
    "df.set_index('date', inplace=True)\n",
    "df.plot( style='.', figsize=(20,5))\n",
    "plt.show()"
   ],
   "metadata": {
    "collapsed": false,
    "pycharm": {
     "name": "#%%\n"
    }
   }
  },
  {
   "cell_type": "markdown",
   "source": [],
   "metadata": {
    "collapsed": false
   }
  },
  {
   "cell_type": "code",
   "execution_count": 25,
   "outputs": [
    {
     "name": "stdout",
     "output_type": "stream",
     "text": [
      "Results of Dickey-Fuller Test:\n",
      "Test Statistic                  -0.259757\n",
      "p-value                          0.931014\n",
      "#Lags Used                      11.000000\n",
      "Number of Observations Used    806.000000\n",
      "Critical Value (1%)             -3.438489\n",
      "Critical Value (5%)             -2.865133\n",
      "Critical Value (10%)            -2.568683\n",
      "dtype: float64\n"
     ]
    }
   ],
   "source": [
    "# Null Hypothesis: The series has a unit root (value of a =1)\n",
    "# Alternate Hypothesis: The series has no unit root.\n",
    "\n",
    "from statsmodels.tsa.stattools import adfuller\n",
    "def adf_test(timeseries):\n",
    "\n",
    "    print ('Results of Dickey-Fuller Test:')\n",
    "    dftest = adfuller(timeseries, autolag='AIC')\n",
    "    dfoutput = pd.Series(dftest[0:4], index=['Test Statistic','p-value','#Lags Used','Number of Observations Used'])\n",
    "    for key,value in dftest[4].items():\n",
    "       dfoutput['Critical Value (%s)'%key] = value\n",
    "    print (dfoutput)\n",
    "\n",
    "\n",
    "adf_test(df)\n",
    "\n",
    "\n",
    "# Stationarity Criteria\n",
    "\n",
    "# If the test statistic is less than the critical value, we can reject the null hypothesis (aka the series is stationary).\n",
    "# When the test statistic is greater than the critical value, we fail to reject the null hypothesis (which means the series is not stationary).\n"
   ],
   "metadata": {
    "collapsed": false,
    "pycharm": {
     "name": "#%%\n"
    }
   }
  },
  {
   "cell_type": "markdown",
   "source": [
    "### KPSS (Kwiatkowski-Phillips-Schmidt-Shin) Test"
   ],
   "metadata": {
    "collapsed": false
   }
  },
  {
   "cell_type": "code",
   "execution_count": 26,
   "outputs": [],
   "source": [
    "# Null Hypothesis: The process is trend stationary.\n",
    "# Alternate Hypothesis: The series has a unit root (series is not stationary).\n",
    "\n",
    "# (DIFFERENT HYPOTHESIS FRAMING w.r.t ADF)\n",
    "\n",
    "from statsmodels.tsa.stattools import kpss\n",
    "\n",
    "def kpss_test(timeseries):\n",
    "    print ('Results of KPSS Test:')\n",
    "    kpsstest = kpss(timeseries, regression='c')\n",
    "    kpss_output = pd.Series(kpsstest[0:3], index=['Test Statistic','p-value','Lags Used'])\n",
    "    for key,value in kpsstest[3].items():\n",
    "        kpss_output['Critical Value (%s)'%key] = value\n",
    "        print (kpss_output)\n",
    "\n",
    "\n",
    "# Stationarity Criteria\n",
    "\n",
    "# If the test statistic is less than the critical value, we can reject the null hypothesis (aka the series is stationary).\n",
    "# When the test statistic is greater than the critical value, we fail to reject the null hypothesis (which means the series is not stationary).\n"
   ],
   "metadata": {
    "collapsed": false,
    "pycharm": {
     "name": "#%%\n"
    }
   }
  },
  {
   "cell_type": "code",
   "execution_count": 22,
   "outputs": [
    {
     "name": "stdout",
     "output_type": "stream",
     "text": [
      "Results of KPSS Test:\n",
      "Test Statistic           2.983118\n",
      "p-value                  0.010000\n",
      "Lags Used               18.000000\n",
      "Critical Value (10%)     0.347000\n",
      "dtype: float64\n",
      "Test Statistic           2.983118\n",
      "p-value                  0.010000\n",
      "Lags Used               18.000000\n",
      "Critical Value (10%)     0.347000\n",
      "Critical Value (5%)      0.463000\n",
      "dtype: float64\n",
      "Test Statistic            2.983118\n",
      "p-value                   0.010000\n",
      "Lags Used                18.000000\n",
      "Critical Value (10%)      0.347000\n",
      "Critical Value (5%)       0.463000\n",
      "Critical Value (2.5%)     0.574000\n",
      "dtype: float64\n",
      "Test Statistic            2.983118\n",
      "p-value                   0.010000\n",
      "Lags Used                18.000000\n",
      "Critical Value (10%)      0.347000\n",
      "Critical Value (5%)       0.463000\n",
      "Critical Value (2.5%)     0.574000\n",
      "Critical Value (1%)       0.739000\n",
      "dtype: float64\n"
     ]
    },
    {
     "name": "stderr",
     "output_type": "stream",
     "text": [
      "/Users/ahsan/.local/share/virtualenvs/openDS-MZRDdKgs/lib/python3.8/site-packages/statsmodels/tsa/stattools.py:2018: InterpolationWarning: The test statistic is outside of the range of p-values available in the\n",
      "look-up table. The actual p-value is smaller than the p-value returned.\n",
      "\n",
      "  warnings.warn(\n"
     ]
    }
   ],
   "source": [
    "kpss_test(df)"
   ],
   "metadata": {
    "collapsed": false,
    "pycharm": {
     "name": "#%%\n"
    }
   }
  },
  {
   "cell_type": "markdown",
   "source": [
    "# Types of Stationarity"
   ],
   "metadata": {
    "collapsed": false
   }
  },
  {
   "cell_type": "raw",
   "source": [
    "Strict Stationary\n",
    "\n",
    "A strict stationary series satisfies the mathematical definition of a stationary process.\n",
    "For a strict stationary series, the mean, variance and covariance are not the function of time.\n",
    "The aim is to convert a non-stationary series into a strict stationary series for making predictions.\n",
    "\n",
    "\n",
    "Trend Stationary\n",
    "\n",
    "A series that has no unit root but exhibits a trend is referred to as a trend stationary series.\n",
    "Once the trend is removed, the resulting series will be strict stationary.\n",
    "The KPSS test classifies a series as stationary on the absence of unit root.\n",
    "This means that the series can be strict stationary or trend stationary.\n",
    "\n",
    "\n",
    "Difference Stationary\n",
    "\n",
    "A time series that can be made strict stationary by differencing falls under difference stationary.\n",
    "ADF test is also known as a difference stationarity test.\n",
    "\n",
    "\n",
    "It’s always better to apply both the tests, so that we are sure that the series is truly stationary.\n",
    "Let us look at the possible outcomes of applying these stationary tests.\n",
    "\n",
    "Case 1: Both tests conclude that the series is not stationary -> series is not stationary\n",
    "Case 2: Both tests conclude that the series is stationary -> series is stationary\n",
    "Case 3: KPSS = stationary and ADF = not stationary  -> trend stationary, remove the trend to make series strict stationary\n",
    "Case 4: KPSS = not stationary and ADF = stationary -> difference stationary, use differencing to make series stationary"
   ],
   "metadata": {
    "collapsed": false,
    "pycharm": {
     "name": "#%% raw\n"
    }
   }
  },
  {
   "cell_type": "markdown",
   "source": [
    "# Making a Time Series Stationary"
   ],
   "metadata": {
    "collapsed": false
   }
  },
  {
   "cell_type": "code",
   "execution_count": null,
   "outputs": [],
   "source": [],
   "metadata": {
    "collapsed": false,
    "pycharm": {
     "name": "#%%\n"
    }
   }
  },
  {
   "cell_type": "code",
   "execution_count": null,
   "outputs": [],
   "source": [],
   "metadata": {
    "collapsed": false,
    "pycharm": {
     "name": "#%%\n"
    }
   }
  },
  {
   "cell_type": "markdown",
   "source": [],
   "metadata": {
    "collapsed": false,
    "pycharm": {
     "name": "#%% md\n"
    }
   }
  }
 ],
 "metadata": {
  "kernelspec": {
   "display_name": "Python 3",
   "language": "python",
   "name": "python3"
  },
  "language_info": {
   "codemirror_mode": {
    "name": "ipython",
    "version": 2
   },
   "file_extension": ".py",
   "mimetype": "text/x-python",
   "name": "python",
   "nbconvert_exporter": "python",
   "pygments_lexer": "ipython2",
   "version": "2.7.6"
  }
 },
 "nbformat": 4,
 "nbformat_minor": 0
}