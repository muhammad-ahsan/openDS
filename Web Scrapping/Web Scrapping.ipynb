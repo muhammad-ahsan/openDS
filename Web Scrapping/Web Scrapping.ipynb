{
 "cells": [
  {
   "cell_type": "code",
   "execution_count": 3,
   "metadata": {},
   "outputs": [
    {
     "name": "stdout",
     "output_type": "stream",
     "text": [
      "Change in %age = (+0.08%)\n"
     ]
    }
   ],
   "source": [
    "import abc\n",
    "\n",
    "from selenium import webdriver\n",
    "from selenium.webdriver.common.keys import Keys\n",
    "\n",
    "\n",
    "class Simulator:\n",
    "    def __init__(self):\n",
    "        self.chrome_options = webdriver.ChromeOptions()\n",
    "        self.chrome_options.add_argument(\"user-data-dir=tmp\")\n",
    "        self.driver = webdriver.Chrome('selenium/chromedriver', options = self.chrome_options)\n",
    "        \n",
    "    @abc.abstractmethod\n",
    "    def run(self):\n",
    "        pass\n",
    "    \n",
    "    def __del__(self):\n",
    "        self.driver.quit()\n",
    "        \n",
    "class CnbcSimulator(Simulator):\n",
    "    \n",
    "    def __init__(self):\n",
    "        Simulator.__init__(self)\n",
    "        self.xpath = '/html/body/div[2]/div/div[1]/div[3]/div/div[2]/div[1]/div[2]/div[3]/div[1]/div[2]/span[2]/span[2]'\n",
    "        self.base_url = 'https://www.cnbc.com/quotes/.SPX'\n",
    "        \n",
    "    def run(self):\n",
    "        self.driver.get(self.base_url)\n",
    "        change_as_text = self.driver.find_element_by_xpath(self.xpath).text\n",
    "        print(f'Change in %age = {change_as_text}') \n",
    "    \n",
    "if __name__ == \"__main__\":\n",
    "    CnbcSimulator().run()"
   ]
  }
 ],
 "metadata": {
  "kernelspec": {
   "display_name": "Python 3",
   "language": "python",
   "name": "python3"
  },
  "language_info": {
   "codemirror_mode": {
    "name": "ipython",
    "version": 3
   },
   "file_extension": ".py",
   "mimetype": "text/x-python",
   "name": "python",
   "nbconvert_exporter": "python",
   "pygments_lexer": "ipython3",
   "version": "3.8.5"
  },
  "widgets": {
   "application/vnd.jupyter.widget-state+json": {
    "state": {},
    "version_major": 2,
    "version_minor": 0
   }
  }
 },
 "nbformat": 4,
 "nbformat_minor": 4
}
