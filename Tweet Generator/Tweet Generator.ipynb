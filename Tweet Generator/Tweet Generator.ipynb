{
 "cells": [
  {
   "cell_type": "markdown",
   "metadata": {},
   "source": [
    "# __Tweet Generator using Markov's Chain__"
   ]
  },
  {
   "cell_type": "code",
   "execution_count": 1,
   "metadata": {},
   "outputs": [],
   "source": [
    "import numpy as np\n",
    "\n",
    "def get_sorted_vocab(words): return sorted(np.unique(words))\n",
    "    \n",
    "def get_encoding(words): \n",
    "    vocabulary_sorted = get_sorted_vocab(words)\n",
    "    rank = 0\n",
    "    vocabulary_code = {}\n",
    "    for word in vocabulary_sorted:\n",
    "        vocabulary_code[word] = rank\n",
    "        rank+=1\n",
    "    return vocabulary_code\n",
    "\n",
    "def _get_first_key(val, my_dict):\n",
    "    for key, value in my_dict.items():\n",
    "         if val == value:\n",
    "            return key\n",
    "    return \"key not found\"\n",
    "\n",
    "def _get_all_keys(val, my_dict):\n",
    "    keys = []\n",
    "    for key, value in my_dict.items():\n",
    "         if val == value:\n",
    "            keys.append(key)\n",
    "    return keys\n",
    "\n",
    "def encode(words, vocabulary_code):\n",
    "    return list(map(lambda w: vocabulary_code.get(w), words))\n",
    "\n",
    "def decode(codes, encoding):\n",
    "    return list(map(lambda w: _get_first_key(w, encoding), codes))\n"
   ]
  },
  {
   "cell_type": "markdown",
   "metadata": {},
   "source": [
    "## __Public Tweet Dataset__"
   ]
  },
  {
   "cell_type": "code",
   "execution_count": 2,
   "metadata": {},
   "outputs": [
    {
     "data": {
      "text/html": [
       "<div>\n",
       "<style scoped>\n",
       "    .dataframe tbody tr th:only-of-type {\n",
       "        vertical-align: middle;\n",
       "    }\n",
       "\n",
       "    .dataframe tbody tr th {\n",
       "        vertical-align: top;\n",
       "    }\n",
       "\n",
       "    .dataframe thead th {\n",
       "        text-align: right;\n",
       "    }\n",
       "</style>\n",
       "<table border=\"1\" class=\"dataframe\">\n",
       "  <thead>\n",
       "    <tr style=\"text-align: right;\">\n",
       "      <th></th>\n",
       "      <th>target</th>\n",
       "      <th>ids</th>\n",
       "      <th>date</th>\n",
       "      <th>flag</th>\n",
       "      <th>user</th>\n",
       "      <th>text</th>\n",
       "    </tr>\n",
       "  </thead>\n",
       "  <tbody>\n",
       "    <tr>\n",
       "      <th>0</th>\n",
       "      <td>0</td>\n",
       "      <td>1467810672</td>\n",
       "      <td>Mon Apr 06 22:19:49 PDT 2009</td>\n",
       "      <td>NO_QUERY</td>\n",
       "      <td>scotthamilton</td>\n",
       "      <td>is upset that he can't update his Facebook by ...</td>\n",
       "    </tr>\n",
       "    <tr>\n",
       "      <th>1</th>\n",
       "      <td>0</td>\n",
       "      <td>1467810917</td>\n",
       "      <td>Mon Apr 06 22:19:53 PDT 2009</td>\n",
       "      <td>NO_QUERY</td>\n",
       "      <td>mattycus</td>\n",
       "      <td>@Kenichan I dived many times for the ball. Man...</td>\n",
       "    </tr>\n",
       "    <tr>\n",
       "      <th>2</th>\n",
       "      <td>0</td>\n",
       "      <td>1467811184</td>\n",
       "      <td>Mon Apr 06 22:19:57 PDT 2009</td>\n",
       "      <td>NO_QUERY</td>\n",
       "      <td>ElleCTF</td>\n",
       "      <td>my whole body feels itchy and like its on fire</td>\n",
       "    </tr>\n",
       "    <tr>\n",
       "      <th>3</th>\n",
       "      <td>0</td>\n",
       "      <td>1467811193</td>\n",
       "      <td>Mon Apr 06 22:19:57 PDT 2009</td>\n",
       "      <td>NO_QUERY</td>\n",
       "      <td>Karoli</td>\n",
       "      <td>@nationwideclass no, it's not behaving at all....</td>\n",
       "    </tr>\n",
       "    <tr>\n",
       "      <th>4</th>\n",
       "      <td>0</td>\n",
       "      <td>1467811372</td>\n",
       "      <td>Mon Apr 06 22:20:00 PDT 2009</td>\n",
       "      <td>NO_QUERY</td>\n",
       "      <td>joy_wolf</td>\n",
       "      <td>@Kwesidei not the whole crew</td>\n",
       "    </tr>\n",
       "  </tbody>\n",
       "</table>\n",
       "</div>"
      ],
      "text/plain": [
       "   target         ids                          date      flag           user  \\\n",
       "0       0  1467810672  Mon Apr 06 22:19:49 PDT 2009  NO_QUERY  scotthamilton   \n",
       "1       0  1467810917  Mon Apr 06 22:19:53 PDT 2009  NO_QUERY       mattycus   \n",
       "2       0  1467811184  Mon Apr 06 22:19:57 PDT 2009  NO_QUERY        ElleCTF   \n",
       "3       0  1467811193  Mon Apr 06 22:19:57 PDT 2009  NO_QUERY         Karoli   \n",
       "4       0  1467811372  Mon Apr 06 22:20:00 PDT 2009  NO_QUERY       joy_wolf   \n",
       "\n",
       "                                                text  \n",
       "0  is upset that he can't update his Facebook by ...  \n",
       "1  @Kenichan I dived many times for the ball. Man...  \n",
       "2    my whole body feels itchy and like its on fire   \n",
       "3  @nationwideclass no, it's not behaving at all....  \n",
       "4                      @Kwesidei not the whole crew   "
      ]
     },
     "execution_count": 2,
     "metadata": {},
     "output_type": "execute_result"
    }
   ],
   "source": [
    "import pandas as pd\n",
    "\n",
    "tweets = pd.read_csv('data/training.1600000.processed.noemoticon.zip', compression='zip', encoding='latin1')\n",
    "tweets.columns = ['target','ids','date','flag','user','text']\n",
    "tweets.head(5)\n",
    "\n",
    "# Data Source: https://www.kaggle.com/kazanova/sentiment140"
   ]
  },
  {
   "cell_type": "code",
   "execution_count": 3,
   "metadata": {},
   "outputs": [],
   "source": [
    "# Possible Extentions\n",
    "# Utilize hastags and mentions\n",
    "\n",
    "def preprocessing(text):\n",
    "    # Remove URLs\n",
    "    processed_text = re.sub(r'http\\S+', '', text)\n",
    "    processed_text = processed_text.replace(\".\", \" \") \\\n",
    "                                    .replace(\"-\", \" \")\\\n",
    "                                    .replace(\"0\", \"\")\\\n",
    "                                    .replace(\"1\", \"\")\\\n",
    "                                    .replace(\"2\", \"\")\\\n",
    "                                    .replace(\"3\", \"\")\\\n",
    "                                    .replace(\"4\", \"\")\\\n",
    "                                    .replace(\"5\", \"\")\\\n",
    "                                    .replace(\"6\", \"\")\\\n",
    "                                    .replace(\"7\", \"\")\\\n",
    "                                    .replace(\"8\", \"\")\\\n",
    "                                    .replace(\"9\", \"\")\n",
    "    return processed_text.lower()"
   ]
  },
  {
   "cell_type": "markdown",
   "metadata": {},
   "source": [
    "## __Text Preprocessing__"
   ]
  },
  {
   "cell_type": "code",
   "execution_count": 4,
   "metadata": {},
   "outputs": [
    {
     "name": "stdout",
     "output_type": "stream",
     "text": [
      "No. of words = 2633\n",
      "No. of unique words = 936\n"
     ]
    }
   ],
   "source": [
    "# Text Cleaning\n",
    "\n",
    "import string\n",
    "import re\n",
    "\n",
    "from collections import Counter\n",
    "\n",
    "tweets['processed_text'] = tweets.text.apply(preprocessing)\n",
    "raw_text = ' '.join(list(tweets.processed_text.sample(frac=0.0001, replace=False)))\n",
    "\n",
    "# Text Tokenization\n",
    "raw_words = raw_text.split()\n",
    "\n",
    "word_counter = Counter(raw_words)\n",
    "\n",
    "single_words = _get_all_keys(1, word_counter)\n",
    "\n",
    "# To avoid pitfall of sinks in markov chains\n",
    "words = raw_words + single_words\n",
    "print(f'No. of words = {len(words)}')\n",
    "print(f'No. of unique words = {len(set(words))}')"
   ]
  },
  {
   "cell_type": "code",
   "execution_count": 5,
   "metadata": {},
   "outputs": [
    {
     "data": {
      "text/plain": [
       "\"@alistardean  off to ocean terminal   will tweet later all     @casper that'll be cool    hihi    but i think eagles like cats too   we failed that song  probably gonna head up to may fest with @kiravonsutra after lunch  good mood gone (it better comes back soon) right now i feel rubbish     i miss you so much joe  @bluorchid where did you get the dr pepper, i love it but can't find it anywhere anymore  @bellasoul the inside of my house was much more colder than outside, too  @mediamadam thank y\""
      ]
     },
     "execution_count": 5,
     "metadata": {},
     "output_type": "execute_result"
    }
   ],
   "source": [
    "raw_text[0:500]"
   ]
  },
  {
   "cell_type": "markdown",
   "metadata": {},
   "source": [
    "## __Text Encoding and Transition Matrix__"
   ]
  },
  {
   "cell_type": "code",
   "execution_count": 6,
   "metadata": {},
   "outputs": [
    {
     "name": "stdout",
     "output_type": "stream",
     "text": [
      "Text encoding with sorted word's rank\n",
      "Building transition matrix ....\n",
      "Running sanity check of transition matrix (p)\n",
      "SUCCESS! Dataset ready ....\n"
     ]
    }
   ],
   "source": [
    "# Credit: https://stackoverflow.com/questions/46657221/generating-markov-transition-matrix-in-python\n",
    "def get_transition_matrix(transitions):\n",
    "    n = 1 + max(transitions) # no. of states\n",
    "\n",
    "    M = [[0]*n for _ in range(n)]\n",
    "    for (i,j) in zip(transitions,transitions[1:]):\n",
    "        M[i][j] += 1\n",
    "\n",
    "    # Extracting probabilities\n",
    "    for row in M:\n",
    "        s = sum(row)\n",
    "        if s > 0:\n",
    "            row[:] = [f/s for f in row]\n",
    "    return M\n",
    "\n",
    "\n",
    "print('Text encoding with sorted word\\'s rank')\n",
    "encoding = get_encoding(words)\n",
    "words_encoded = encode(words, encoding)\n",
    "\n",
    "print('Building transition matrix ....')\n",
    "p = get_transition_matrix(words_encoded)\n",
    "\n",
    "print('Running sanity check of transition matrix (p)')\n",
    "for row in p: \n",
    "    if sum(row)== 0:\n",
    "        print(row)\n",
    "        raise Exception('Try to remove last word from text')\n",
    "\n",
    "print('SUCCESS! Dataset ready ....')\n",
    "# Edge Case: \n",
    "# If the frequency of last word in text is 1 then this condition would not be satisfied\n",
    "# The \"p\" (transition matrix) parameter rows must sum to 1.\n"
   ]
  },
  {
   "cell_type": "markdown",
   "metadata": {},
   "source": [
    "## __Building Markov Chain__"
   ]
  },
  {
   "cell_type": "code",
   "execution_count": 7,
   "metadata": {},
   "outputs": [
    {
     "name": "stdout",
     "output_type": "stream",
     "text": [
      "\n",
      "DISCRETE-TIME MARKOV CHAIN\n",
      " SIZE:           936\n",
      " RANK:           921\n",
      " CLASSES:        1\n",
      "  > RECURRENT:   1\n",
      "  > TRANSIENT:   0\n",
      " ERGODIC:        YES\n",
      "  > APERIODIC:   YES\n",
      "  > IRREDUCIBLE: YES\n",
      " ABSORBING:      NO\n",
      " REGULAR:        NO\n",
      " REVERSIBLE:     NO\n",
      " SYMMETRIC:      NO\n",
      "\n"
     ]
    }
   ],
   "source": [
    "from pydtmc import MarkovChain\n",
    "# from pydtmc import plot_graph\n",
    "# from pydtmc import plot_eigenvalues\n",
    "# from pydtmc import plot_walk\n",
    "\n",
    "mc = MarkovChain(p, get_sorted_vocab(words))\n",
    "print(mc)\n",
    "\n",
    "# When chain is small, better plot\n",
    "# import matplotlib.pyplot as plt\n",
    "# %matplotlib inline\n",
    "# plot_graph(mc)\n",
    "# plot_eigenvalues(mc)"
   ]
  },
  {
   "cell_type": "markdown",
   "metadata": {},
   "source": [
    "## __Tweet Generator__"
   ]
  },
  {
   "cell_type": "code",
   "execution_count": 30,
   "metadata": {},
   "outputs": [
    {
     "data": {
      "text/plain": [
       "\"It was sold out before even heard coming sucks, but can't find it congratulations, queen Ö\""
      ]
     },
     "execution_count": 30,
     "metadata": {},
     "output_type": "execute_result"
    }
   ],
   "source": [
    "import random\n",
    "\n",
    "def post_processing_tweet(tweet):\n",
    "    emojis = [' !',' ....',' ;)', ' :(', ' Ö']\n",
    "    end = random.sample(emojis, 1)[0]\n",
    "    return tweet[0].upper() + tweet[1:] + end\n",
    "\n",
    "# Start random walk of x given steps in markov chain starting from given word\n",
    "tweet = ' '.join(mc.walk(15))\n",
    "post_processing_tweet(tweet)"
   ]
  }
 ],
 "metadata": {
  "kernelspec": {
   "display_name": "Python 3",
   "language": "python",
   "name": "python3"
  },
  "language_info": {
   "codemirror_mode": {
    "name": "ipython",
    "version": 3
   },
   "file_extension": ".py",
   "mimetype": "text/x-python",
   "name": "python",
   "nbconvert_exporter": "python",
   "pygments_lexer": "ipython3",
   "version": "3.8.5"
  },
  "widgets": {
   "application/vnd.jupyter.widget-state+json": {
    "state": {},
    "version_major": 2,
    "version_minor": 0
   }
  }
 },
 "nbformat": 4,
 "nbformat_minor": 4
}
