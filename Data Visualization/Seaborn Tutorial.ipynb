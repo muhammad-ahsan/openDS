{
 "cells": [
  {
   "cell_type": "markdown",
   "source": [
    "# Why Seaborn Library?"
   ],
   "metadata": {
    "collapsed": false,
    "pycharm": {
     "name": "#%% md\n"
    }
   }
  },
  {
   "cell_type": "markdown",
   "source": [
    "It is a wrapper over matplotlib to provide high level visualization api."
   ],
   "metadata": {
    "collapsed": false
   }
  },
  {
   "cell_type": "code",
   "execution_count": 14,
   "outputs": [],
   "source": [
    "import seaborn as sns\n",
    "sns.set_theme();"
   ],
   "metadata": {
    "collapsed": false,
    "pycharm": {
     "name": "#%%\n"
    }
   }
  },
  {
   "cell_type": "code",
   "execution_count": 3,
   "outputs": [
    {
     "data": {
      "text/plain": "   total  speeding  alcohol  not_distracted  no_previous  ins_premium  \\\n0   18.8     7.332    5.640          18.048       15.040       784.55   \n1   18.1     7.421    4.525          16.290       17.014      1053.48   \n2   18.6     6.510    5.208          15.624       17.856       899.47   \n3   22.4     4.032    5.824          21.056       21.280       827.34   \n4   12.0     4.200    3.360          10.920       10.680       878.41   \n\n   ins_losses abbrev  \n0      145.08     AL  \n1      133.93     AK  \n2      110.35     AZ  \n3      142.39     AR  \n4      165.63     CA  ",
      "text/html": "<div>\n<style scoped>\n    .dataframe tbody tr th:only-of-type {\n        vertical-align: middle;\n    }\n\n    .dataframe tbody tr th {\n        vertical-align: top;\n    }\n\n    .dataframe thead th {\n        text-align: right;\n    }\n</style>\n<table border=\"1\" class=\"dataframe\">\n  <thead>\n    <tr style=\"text-align: right;\">\n      <th></th>\n      <th>total</th>\n      <th>speeding</th>\n      <th>alcohol</th>\n      <th>not_distracted</th>\n      <th>no_previous</th>\n      <th>ins_premium</th>\n      <th>ins_losses</th>\n      <th>abbrev</th>\n    </tr>\n  </thead>\n  <tbody>\n    <tr>\n      <th>0</th>\n      <td>18.8</td>\n      <td>7.332</td>\n      <td>5.640</td>\n      <td>18.048</td>\n      <td>15.040</td>\n      <td>784.55</td>\n      <td>145.08</td>\n      <td>AL</td>\n    </tr>\n    <tr>\n      <th>1</th>\n      <td>18.1</td>\n      <td>7.421</td>\n      <td>4.525</td>\n      <td>16.290</td>\n      <td>17.014</td>\n      <td>1053.48</td>\n      <td>133.93</td>\n      <td>AK</td>\n    </tr>\n    <tr>\n      <th>2</th>\n      <td>18.6</td>\n      <td>6.510</td>\n      <td>5.208</td>\n      <td>15.624</td>\n      <td>17.856</td>\n      <td>899.47</td>\n      <td>110.35</td>\n      <td>AZ</td>\n    </tr>\n    <tr>\n      <th>3</th>\n      <td>22.4</td>\n      <td>4.032</td>\n      <td>5.824</td>\n      <td>21.056</td>\n      <td>21.280</td>\n      <td>827.34</td>\n      <td>142.39</td>\n      <td>AR</td>\n    </tr>\n    <tr>\n      <th>4</th>\n      <td>12.0</td>\n      <td>4.200</td>\n      <td>3.360</td>\n      <td>10.920</td>\n      <td>10.680</td>\n      <td>878.41</td>\n      <td>165.63</td>\n      <td>CA</td>\n    </tr>\n  </tbody>\n</table>\n</div>"
     },
     "execution_count": 3,
     "metadata": {},
     "output_type": "execute_result"
    }
   ],
   "source": [
    "crash_df = sns.load_dataset('car_crashes')\n",
    "crash_df.head()"
   ],
   "metadata": {
    "collapsed": false,
    "pycharm": {
     "name": "#%%\n"
    }
   }
  },
  {
   "cell_type": "markdown",
   "source": [
    "# Distribution Plot"
   ],
   "metadata": {
    "collapsed": false,
    "pycharm": {
     "name": "#%% md\n"
    }
   }
  },
  {
   "cell_type": "code",
   "execution_count": 22,
   "outputs": [
    {
     "data": {
      "text/plain": "<Figure size 360x360 with 1 Axes>",
      "image/png": "[encoded data removed]"
     },
     "metadata": {},
     "output_type": "display_data"
    }
   ],
   "source": [
    "# DEPRECATED\n",
    "sns.displot(crash_df['alcohol'],kde=True, bins=10 );"
   ],
   "metadata": {
    "collapsed": false,
    "pycharm": {
     "name": "#%%\n"
    }
   }
  },
  {
   "cell_type": "code",
   "execution_count": null,
   "outputs": [],
   "source": [],
   "metadata": {
    "collapsed": false,
    "pycharm": {
     "name": "#%%\n"
    }
   }
  },
  {
   "cell_type": "code",
   "execution_count": null,
   "outputs": [],
   "source": [],
   "metadata": {
    "collapsed": false,
    "pycharm": {
     "name": "#%%\n"
    }
   }
  },
  {
   "cell_type": "code",
   "execution_count": null,
   "outputs": [],
   "source": [],
   "metadata": {
    "collapsed": false,
    "pycharm": {
     "name": "#%%\n"
    }
   }
  },
  {
   "cell_type": "code",
   "execution_count": null,
   "outputs": [],
   "source": [],
   "metadata": {
    "collapsed": false,
    "pycharm": {
     "name": "#%%\n"
    }
   }
  },
  {
   "cell_type": "code",
   "execution_count": null,
   "outputs": [],
   "source": [],
   "metadata": {
    "collapsed": false,
    "pycharm": {
     "name": "#%%\n"
    }
   }
  },
  {
   "cell_type": "code",
   "execution_count": null,
   "outputs": [],
   "source": [],
   "metadata": {
    "collapsed": false,
    "pycharm": {
     "name": "#%%\n"
    }
   }
  },
  {
   "cell_type": "code",
   "execution_count": null,
   "outputs": [],
   "source": [],
   "metadata": {
    "collapsed": false,
    "pycharm": {
     "name": "#%%\n"
    }
   }
  }
 ],
 "metadata": {
  "kernelspec": {
   "display_name": "Python 3",
   "language": "python",
   "name": "python3"
  },
  "language_info": {
   "codemirror_mode": {
    "name": "ipython",
    "version": 2
   },
   "file_extension": ".py",
   "mimetype": "text/x-python",
   "name": "python",
   "nbconvert_exporter": "python",
   "pygments_lexer": "ipython2",
   "version": "2.7.6"
  }
 },
 "nbformat": 4,
 "nbformat_minor": 0
}