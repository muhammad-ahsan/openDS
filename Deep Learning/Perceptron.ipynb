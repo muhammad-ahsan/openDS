{
 "cells": [
  {
   "cell_type": "raw",
   "metadata": {
    "collapsed": true,
    "pycharm": {
     "name": "#%% raw\n"
    }
   },
   "source": [],
   "outputs": []
  },
  {
   "cell_type": "markdown",
   "source": [
    "# Perceptron"
   ],
   "metadata": {
    "collapsed": false,
    "pycharm": {
     "name": "#%% md\n"
    }
   }
  },
  {
   "cell_type": "code",
   "execution_count": 9,
   "outputs": [],
   "source": [
    "# Reference: https://en.wikipedia.org/wiki/Perceptron"
   ],
   "metadata": {
    "collapsed": false,
    "pycharm": {
     "name": "#%%\n"
    }
   }
  },
  {
   "cell_type": "code",
   "execution_count": 1,
   "outputs": [
    {
     "data": {
      "text/plain": "<IPython.core.display.Latex object>",
      "text/latex": "$$\n\\begin{equation}\nf(x)=\n    \\begin{cases}\n        1 & \\text{if } w \\ast x + b >0 \\\\\n        0 & \\text{otherwise }\n    \\end{cases}\n\\end{equation}\n$$\n"
     },
     "metadata": {},
     "output_type": "display_data"
    }
   ],
   "source": [
    "%%latex\n",
    "$$\n",
    "\\begin{equation}\n",
    "f(x)=\n",
    "    \\begin{cases}\n",
    "        1 & \\text{if } w \\ast x + b >0 \\\\\n",
    "        0 & \\text{otherwise }\n",
    "    \\end{cases}\n",
    "\\end{equation}\n",
    "$$"
   ],
   "metadata": {
    "collapsed": false,
    "pycharm": {
     "name": "#%%\n"
    }
   }
  },
  {
   "cell_type": "code",
   "execution_count": 7,
   "outputs": [
    {
     "name": "stdout",
     "output_type": "stream",
     "text": [
      "OR(0, 1) = 1\n",
      "OR(1, 1) = 1\n",
      "OR(0, 0) = 0\n",
      "OR(1, 0) = 1\n"
     ]
    }
   ],
   "source": [
    "import numpy as np\n",
    "\n",
    "\n",
    "def threshold(v: float) -> int:\n",
    "    return 1 if v >= 0 else 0\n",
    "\n",
    "\n",
    "class Perceptron:\n",
    "    def __init__(self, w, b: float):\n",
    "        self.w = w\n",
    "        self.b = b\n",
    "\n",
    "    def update_params(self, w, b):\n",
    "        self.w = w\n",
    "        self.b = b\n",
    "\n",
    "    def predict(self, x) -> int:\n",
    "        v = np.dot(self.w, x) + self.b\n",
    "        return threshold(v)\n",
    "\n",
    "\n",
    "# Hard coded model parameters\n",
    "def compute_or(x):\n",
    "    # w1 = 1, w2 = 1, b = -0.5\n",
    "    w = np.array([1, 1])\n",
    "    b = -0.5\n",
    "    return Perceptron(w, b).predict(x)\n",
    "\n",
    "\n",
    "# Using Perceptron model for OR Logic Gate\n",
    "\n",
    "test1 = np.array([0, 1])\n",
    "test2 = np.array([1, 1])\n",
    "test3 = np.array([0, 0])\n",
    "test4 = np.array([1, 0])\n",
    "\n",
    "print(\"OR({}, {}) = {}\".format(0, 1, compute_or(test1)))\n",
    "print(\"OR({}, {}) = {}\".format(1, 1, compute_or(test2)))\n",
    "print(\"OR({}, {}) = {}\".format(0, 0, compute_or(test3)))\n",
    "print(\"OR({}, {}) = {}\".format(1, 0, compute_or(test4)))"
   ],
   "metadata": {
    "collapsed": false,
    "pycharm": {
     "name": "#%%\n"
    }
   }
  },
  {
   "cell_type": "code",
   "execution_count": null,
   "outputs": [],
   "source": [
    "# Using Keras API"
   ],
   "metadata": {
    "collapsed": false,
    "pycharm": {
     "name": "#%%\n"
    }
   }
  },
  {
   "cell_type": "code",
   "execution_count": null,
   "outputs": [],
   "source": [
    "from keras.layers import Dense\n",
    "from keras.models import Sequential\n",
    "model = Sequential()\n",
    "model.add(Dense(12, input_dim=8, kernel_initializer='random_uniform'))"
   ],
   "metadata": {
    "collapsed": false,
    "pycharm": {
     "name": "#%%\n",
     "is_executing": true
    }
   }
  }
 ],
 "metadata": {
  "kernelspec": {
   "display_name": "Python 3",
   "language": "python",
   "name": "python3"
  },
  "language_info": {
   "codemirror_mode": {
    "name": "ipython",
    "version": 2
   },
   "file_extension": ".py",
   "mimetype": "text/x-python",
   "name": "python",
   "nbconvert_exporter": "python",
   "pygments_lexer": "ipython2",
   "version": "2.7.6"
  }
 },
 "nbformat": 4,
 "nbformat_minor": 0
}