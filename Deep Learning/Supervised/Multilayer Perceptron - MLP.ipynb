{
 "cells": [
  {
   "cell_type": "code",
   "execution_count": 9,
   "metadata": {
    "collapsed": true
   },
   "outputs": [
    {
     "data": {
      "text/plain": "'2.8.0'"
     },
     "execution_count": 9,
     "metadata": {},
     "output_type": "execute_result"
    }
   ],
   "source": [
    "import numpy as np\n",
    "import tensorflow as tf\n",
    "tf.__version__"
   ]
  },
  {
   "cell_type": "code",
   "execution_count": 10,
   "outputs": [
    {
     "name": "stdout",
     "output_type": "stream",
     "text": [
      "[[0 0]\n",
      " [0 1]\n",
      " [1 0]\n",
      " [1 1]]\n",
      "(4, 2)\n",
      "[0 1 1 1]\n"
     ]
    }
   ],
   "source": [
    "from keras.layers import Dense\n",
    "from keras.models import Sequential\n",
    "X = np.array([[0,0], [0,1], [1,0], [1,1]])\n",
    "y = np.array([0,1,1,1])\n",
    "print(X)\n",
    "print(X.shape)\n",
    "print(y)"
   ],
   "metadata": {
    "collapsed": false,
    "pycharm": {
     "name": "#%%\n"
    }
   }
  },
  {
   "cell_type": "code",
   "execution_count": 11,
   "outputs": [
    {
     "data": {
      "text/plain": "(None, 1)"
     },
     "execution_count": 11,
     "metadata": {},
     "output_type": "execute_result"
    }
   ],
   "source": [
    "# Multilayer Perceptron\n",
    "\n",
    "model = Sequential()\n",
    "model.add(Dense(2, input_shape=(2,)))\n",
    "\n",
    "# Designing Model Architecture\n",
    "model.add(Dense(1, activation='sigmoid'))\n",
    "model.compile(optimizer='adam', loss='mse', metrics='mean_squared_error')\n",
    "model.output_shape"
   ],
   "metadata": {
    "collapsed": false,
    "pycharm": {
     "name": "#%%\n"
    }
   }
  },
  {
   "cell_type": "code",
   "execution_count": 12,
   "outputs": [
    {
     "name": "stdout",
     "output_type": "stream",
     "text": [
      "Epoch 1/200\n"
     ]
    },
    {
     "name": "stderr",
     "output_type": "stream",
     "text": [
      "2022-05-19 14:20:45.851793: I tensorflow/core/grappler/optimizers/custom_graph_optimizer_registry.cc:113] Plugin optimizer for device_type GPU is enabled.\n"
     ]
    },
    {
     "name": "stdout",
     "output_type": "stream",
     "text": [
      "4/4 [==============================] - 2s 7ms/step - loss: 0.1773 - mean_squared_error: 0.1773\n",
      "Epoch 2/200\n",
      "4/4 [==============================] - 0s 8ms/step - loss: 0.1747 - mean_squared_error: 0.1747\n",
      "Epoch 3/200\n",
      "4/4 [==============================] - 0s 7ms/step - loss: 0.1737 - mean_squared_error: 0.1737\n",
      "Epoch 4/200\n",
      "4/4 [==============================] - 0s 8ms/step - loss: 0.1717 - mean_squared_error: 0.1717\n",
      "Epoch 5/200\n",
      "4/4 [==============================] - 0s 8ms/step - loss: 0.1706 - mean_squared_error: 0.1706\n",
      "Epoch 6/200\n",
      "4/4 [==============================] - 0s 9ms/step - loss: 0.1693 - mean_squared_error: 0.1693\n",
      "Epoch 7/200\n",
      "4/4 [==============================] - 0s 8ms/step - loss: 0.1679 - mean_squared_error: 0.1679\n",
      "Epoch 8/200\n",
      "4/4 [==============================] - 0s 8ms/step - loss: 0.1665 - mean_squared_error: 0.1665\n",
      "Epoch 9/200\n",
      "4/4 [==============================] - 0s 8ms/step - loss: 0.1655 - mean_squared_error: 0.1655\n",
      "Epoch 10/200\n",
      "4/4 [==============================] - 0s 7ms/step - loss: 0.1641 - mean_squared_error: 0.1641\n",
      "Epoch 11/200\n",
      "4/4 [==============================] - 0s 7ms/step - loss: 0.1630 - mean_squared_error: 0.1630\n",
      "Epoch 12/200\n",
      "4/4 [==============================] - 0s 8ms/step - loss: 0.1613 - mean_squared_error: 0.1613\n",
      "Epoch 13/200\n",
      "4/4 [==============================] - 0s 8ms/step - loss: 0.1607 - mean_squared_error: 0.1607\n",
      "Epoch 14/200\n",
      "4/4 [==============================] - 0s 7ms/step - loss: 0.1593 - mean_squared_error: 0.1593\n",
      "Epoch 15/200\n",
      "4/4 [==============================] - 0s 7ms/step - loss: 0.1580 - mean_squared_error: 0.1580\n",
      "Epoch 16/200\n",
      "4/4 [==============================] - 0s 8ms/step - loss: 0.1569 - mean_squared_error: 0.1569\n",
      "Epoch 17/200\n",
      "4/4 [==============================] - 0s 7ms/step - loss: 0.1559 - mean_squared_error: 0.1559\n",
      "Epoch 18/200\n",
      "4/4 [==============================] - 0s 7ms/step - loss: 0.1550 - mean_squared_error: 0.1550\n",
      "Epoch 19/200\n",
      "4/4 [==============================] - 0s 8ms/step - loss: 0.1539 - mean_squared_error: 0.1539\n",
      "Epoch 20/200\n",
      "4/4 [==============================] - 0s 7ms/step - loss: 0.1528 - mean_squared_error: 0.1528\n",
      "Epoch 21/200\n",
      "4/4 [==============================] - 0s 7ms/step - loss: 0.1518 - mean_squared_error: 0.1518\n",
      "Epoch 22/200\n",
      "4/4 [==============================] - 0s 8ms/step - loss: 0.1511 - mean_squared_error: 0.1511\n",
      "Epoch 23/200\n",
      "4/4 [==============================] - 0s 7ms/step - loss: 0.1501 - mean_squared_error: 0.1501\n",
      "Epoch 24/200\n",
      "4/4 [==============================] - 0s 7ms/step - loss: 0.1490 - mean_squared_error: 0.1490\n",
      "Epoch 25/200\n",
      "4/4 [==============================] - 0s 8ms/step - loss: 0.1479 - mean_squared_error: 0.1479\n",
      "Epoch 26/200\n",
      "4/4 [==============================] - 0s 7ms/step - loss: 0.1474 - mean_squared_error: 0.1474\n",
      "Epoch 27/200\n",
      "4/4 [==============================] - 0s 7ms/step - loss: 0.1462 - mean_squared_error: 0.1462\n",
      "Epoch 28/200\n",
      "4/4 [==============================] - 0s 8ms/step - loss: 0.1454 - mean_squared_error: 0.1454\n",
      "Epoch 29/200\n",
      "4/4 [==============================] - 0s 7ms/step - loss: 0.1449 - mean_squared_error: 0.1449\n",
      "Epoch 30/200\n",
      "4/4 [==============================] - 0s 7ms/step - loss: 0.1437 - mean_squared_error: 0.1437\n",
      "Epoch 31/200\n",
      "4/4 [==============================] - 0s 8ms/step - loss: 0.1430 - mean_squared_error: 0.1430\n",
      "Epoch 32/200\n",
      "4/4 [==============================] - 0s 7ms/step - loss: 0.1424 - mean_squared_error: 0.1424\n",
      "Epoch 33/200\n",
      "4/4 [==============================] - 0s 7ms/step - loss: 0.1414 - mean_squared_error: 0.1414\n",
      "Epoch 34/200\n",
      "4/4 [==============================] - 0s 8ms/step - loss: 0.1409 - mean_squared_error: 0.1409\n",
      "Epoch 35/200\n",
      "4/4 [==============================] - 0s 8ms/step - loss: 0.1400 - mean_squared_error: 0.1400\n",
      "Epoch 36/200\n",
      "4/4 [==============================] - 0s 7ms/step - loss: 0.1392 - mean_squared_error: 0.1392\n",
      "Epoch 37/200\n",
      "4/4 [==============================] - 0s 8ms/step - loss: 0.1388 - mean_squared_error: 0.1388\n",
      "Epoch 38/200\n",
      "4/4 [==============================] - 0s 8ms/step - loss: 0.1380 - mean_squared_error: 0.1380\n",
      "Epoch 39/200\n",
      "4/4 [==============================] - 0s 7ms/step - loss: 0.1370 - mean_squared_error: 0.1370\n",
      "Epoch 40/200\n",
      "4/4 [==============================] - 0s 8ms/step - loss: 0.1364 - mean_squared_error: 0.1364\n",
      "Epoch 41/200\n",
      "4/4 [==============================] - 0s 7ms/step - loss: 0.1360 - mean_squared_error: 0.1360\n",
      "Epoch 42/200\n",
      "4/4 [==============================] - 0s 7ms/step - loss: 0.1353 - mean_squared_error: 0.1353\n",
      "Epoch 43/200\n",
      "4/4 [==============================] - 0s 7ms/step - loss: 0.1346 - mean_squared_error: 0.1346\n",
      "Epoch 44/200\n",
      "4/4 [==============================] - 0s 8ms/step - loss: 0.1338 - mean_squared_error: 0.1338\n",
      "Epoch 45/200\n",
      "4/4 [==============================] - 0s 7ms/step - loss: 0.1334 - mean_squared_error: 0.1334\n",
      "Epoch 46/200\n",
      "4/4 [==============================] - 0s 8ms/step - loss: 0.1327 - mean_squared_error: 0.1327\n",
      "Epoch 47/200\n",
      "4/4 [==============================] - 0s 7ms/step - loss: 0.1320 - mean_squared_error: 0.1320\n",
      "Epoch 48/200\n",
      "4/4 [==============================] - 0s 7ms/step - loss: 0.1315 - mean_squared_error: 0.1315\n",
      "Epoch 49/200\n",
      "4/4 [==============================] - 0s 8ms/step - loss: 0.1310 - mean_squared_error: 0.1310\n",
      "Epoch 50/200\n",
      "4/4 [==============================] - 0s 7ms/step - loss: 0.1303 - mean_squared_error: 0.1303\n",
      "Epoch 51/200\n",
      "4/4 [==============================] - 0s 7ms/step - loss: 0.1298 - mean_squared_error: 0.1298\n",
      "Epoch 52/200\n",
      "4/4 [==============================] - 0s 8ms/step - loss: 0.1292 - mean_squared_error: 0.1292\n",
      "Epoch 53/200\n",
      "4/4 [==============================] - 0s 7ms/step - loss: 0.1287 - mean_squared_error: 0.1287\n",
      "Epoch 54/200\n",
      "4/4 [==============================] - 0s 7ms/step - loss: 0.1283 - mean_squared_error: 0.1283\n",
      "Epoch 55/200\n",
      "4/4 [==============================] - 0s 8ms/step - loss: 0.1278 - mean_squared_error: 0.1278\n",
      "Epoch 56/200\n",
      "4/4 [==============================] - 0s 7ms/step - loss: 0.1271 - mean_squared_error: 0.1271\n",
      "Epoch 57/200\n",
      "4/4 [==============================] - 0s 7ms/step - loss: 0.1268 - mean_squared_error: 0.1268\n",
      "Epoch 58/200\n",
      "4/4 [==============================] - 0s 8ms/step - loss: 0.1261 - mean_squared_error: 0.1261\n",
      "Epoch 59/200\n",
      "4/4 [==============================] - 0s 7ms/step - loss: 0.1257 - mean_squared_error: 0.1257\n",
      "Epoch 60/200\n",
      "4/4 [==============================] - 0s 7ms/step - loss: 0.1251 - mean_squared_error: 0.1251\n",
      "Epoch 61/200\n",
      "4/4 [==============================] - 0s 8ms/step - loss: 0.1246 - mean_squared_error: 0.1246\n",
      "Epoch 62/200\n",
      "4/4 [==============================] - 0s 7ms/step - loss: 0.1241 - mean_squared_error: 0.1241\n",
      "Epoch 63/200\n",
      "4/4 [==============================] - 0s 7ms/step - loss: 0.1237 - mean_squared_error: 0.1237\n",
      "Epoch 64/200\n",
      "4/4 [==============================] - 0s 7ms/step - loss: 0.1234 - mean_squared_error: 0.1234\n",
      "Epoch 65/200\n",
      "4/4 [==============================] - 0s 7ms/step - loss: 0.1229 - mean_squared_error: 0.1229\n",
      "Epoch 66/200\n",
      "4/4 [==============================] - 0s 7ms/step - loss: 0.1223 - mean_squared_error: 0.1223\n",
      "Epoch 67/200\n",
      "4/4 [==============================] - 0s 8ms/step - loss: 0.1221 - mean_squared_error: 0.1221\n",
      "Epoch 68/200\n",
      "4/4 [==============================] - 0s 7ms/step - loss: 0.1215 - mean_squared_error: 0.1215\n",
      "Epoch 69/200\n",
      "4/4 [==============================] - 0s 7ms/step - loss: 0.1210 - mean_squared_error: 0.1210\n",
      "Epoch 70/200\n",
      "4/4 [==============================] - 0s 8ms/step - loss: 0.1206 - mean_squared_error: 0.1206\n",
      "Epoch 71/200\n",
      "4/4 [==============================] - 0s 7ms/step - loss: 0.1202 - mean_squared_error: 0.1202\n",
      "Epoch 72/200\n",
      "4/4 [==============================] - 0s 7ms/step - loss: 0.1198 - mean_squared_error: 0.1198\n",
      "Epoch 73/200\n",
      "4/4 [==============================] - 0s 8ms/step - loss: 0.1193 - mean_squared_error: 0.1193\n",
      "Epoch 74/200\n",
      "4/4 [==============================] - 0s 7ms/step - loss: 0.1189 - mean_squared_error: 0.1189\n",
      "Epoch 75/200\n",
      "4/4 [==============================] - 0s 7ms/step - loss: 0.1185 - mean_squared_error: 0.1185\n",
      "Epoch 76/200\n",
      "4/4 [==============================] - 0s 8ms/step - loss: 0.1181 - mean_squared_error: 0.1181\n",
      "Epoch 77/200\n",
      "4/4 [==============================] - 0s 7ms/step - loss: 0.1177 - mean_squared_error: 0.1177\n",
      "Epoch 78/200\n",
      "4/4 [==============================] - 0s 7ms/step - loss: 0.1175 - mean_squared_error: 0.1175\n",
      "Epoch 79/200\n",
      "4/4 [==============================] - 0s 8ms/step - loss: 0.1169 - mean_squared_error: 0.1169\n",
      "Epoch 80/200\n",
      "4/4 [==============================] - 0s 7ms/step - loss: 0.1167 - mean_squared_error: 0.1167\n",
      "Epoch 81/200\n",
      "4/4 [==============================] - 0s 7ms/step - loss: 0.1161 - mean_squared_error: 0.1161\n",
      "Epoch 82/200\n",
      "4/4 [==============================] - 0s 7ms/step - loss: 0.1159 - mean_squared_error: 0.1159\n",
      "Epoch 83/200\n",
      "4/4 [==============================] - 0s 7ms/step - loss: 0.1154 - mean_squared_error: 0.1154\n",
      "Epoch 84/200\n",
      "4/4 [==============================] - 0s 7ms/step - loss: 0.1150 - mean_squared_error: 0.1150\n",
      "Epoch 85/200\n",
      "4/4 [==============================] - 0s 8ms/step - loss: 0.1146 - mean_squared_error: 0.1146\n",
      "Epoch 86/200\n",
      "4/4 [==============================] - 0s 8ms/step - loss: 0.1143 - mean_squared_error: 0.1143\n",
      "Epoch 87/200\n",
      "4/4 [==============================] - 0s 7ms/step - loss: 0.1140 - mean_squared_error: 0.1140\n",
      "Epoch 88/200\n",
      "4/4 [==============================] - 0s 7ms/step - loss: 0.1136 - mean_squared_error: 0.1136\n",
      "Epoch 89/200\n",
      "4/4 [==============================] - 0s 8ms/step - loss: 0.1133 - mean_squared_error: 0.1133\n",
      "Epoch 90/200\n",
      "4/4 [==============================] - 0s 7ms/step - loss: 0.1128 - mean_squared_error: 0.1128\n",
      "Epoch 91/200\n",
      "4/4 [==============================] - 0s 8ms/step - loss: 0.1125 - mean_squared_error: 0.1125\n",
      "Epoch 92/200\n",
      "4/4 [==============================] - 0s 7ms/step - loss: 0.1121 - mean_squared_error: 0.1121\n",
      "Epoch 93/200\n",
      "4/4 [==============================] - 0s 7ms/step - loss: 0.1118 - mean_squared_error: 0.1118\n",
      "Epoch 94/200\n",
      "4/4 [==============================] - 0s 7ms/step - loss: 0.1115 - mean_squared_error: 0.1115\n",
      "Epoch 95/200\n",
      "4/4 [==============================] - 0s 8ms/step - loss: 0.1112 - mean_squared_error: 0.1112\n",
      "Epoch 96/200\n",
      "4/4 [==============================] - 0s 7ms/step - loss: 0.1108 - mean_squared_error: 0.1108\n",
      "Epoch 97/200\n",
      "4/4 [==============================] - 0s 8ms/step - loss: 0.1105 - mean_squared_error: 0.1105\n",
      "Epoch 98/200\n",
      "4/4 [==============================] - 0s 8ms/step - loss: 0.1101 - mean_squared_error: 0.1101\n",
      "Epoch 99/200\n",
      "4/4 [==============================] - 0s 7ms/step - loss: 0.1098 - mean_squared_error: 0.1098\n",
      "Epoch 100/200\n",
      "4/4 [==============================] - 0s 7ms/step - loss: 0.1094 - mean_squared_error: 0.1094\n",
      "Epoch 101/200\n",
      "4/4 [==============================] - 0s 7ms/step - loss: 0.1091 - mean_squared_error: 0.1091\n",
      "Epoch 102/200\n",
      "4/4 [==============================] - 0s 7ms/step - loss: 0.1088 - mean_squared_error: 0.1088\n",
      "Epoch 103/200\n",
      "4/4 [==============================] - 0s 7ms/step - loss: 0.1085 - mean_squared_error: 0.1085\n",
      "Epoch 104/200\n",
      "4/4 [==============================] - 0s 7ms/step - loss: 0.1082 - mean_squared_error: 0.1082\n",
      "Epoch 105/200\n",
      "4/4 [==============================] - 0s 7ms/step - loss: 0.1078 - mean_squared_error: 0.1078\n",
      "Epoch 106/200\n",
      "4/4 [==============================] - 0s 7ms/step - loss: 0.1075 - mean_squared_error: 0.1075\n",
      "Epoch 107/200\n",
      "4/4 [==============================] - 0s 8ms/step - loss: 0.1072 - mean_squared_error: 0.1072\n",
      "Epoch 108/200\n",
      "4/4 [==============================] - 0s 7ms/step - loss: 0.1068 - mean_squared_error: 0.1068\n",
      "Epoch 109/200\n",
      "4/4 [==============================] - 0s 7ms/step - loss: 0.1066 - mean_squared_error: 0.1066\n",
      "Epoch 110/200\n",
      "4/4 [==============================] - 0s 8ms/step - loss: 0.1062 - mean_squared_error: 0.1062\n",
      "Epoch 111/200\n",
      "4/4 [==============================] - 0s 7ms/step - loss: 0.1059 - mean_squared_error: 0.1059\n",
      "Epoch 112/200\n",
      "4/4 [==============================] - 0s 7ms/step - loss: 0.1056 - mean_squared_error: 0.1056\n",
      "Epoch 113/200\n",
      "4/4 [==============================] - 0s 7ms/step - loss: 0.1053 - mean_squared_error: 0.1053\n",
      "Epoch 114/200\n",
      "4/4 [==============================] - 0s 7ms/step - loss: 0.1050 - mean_squared_error: 0.1050\n",
      "Epoch 115/200\n",
      "4/4 [==============================] - 0s 7ms/step - loss: 0.1046 - mean_squared_error: 0.1046\n",
      "Epoch 116/200\n",
      "4/4 [==============================] - 0s 8ms/step - loss: 0.1044 - mean_squared_error: 0.1044\n",
      "Epoch 117/200\n",
      "4/4 [==============================] - 0s 7ms/step - loss: 0.1041 - mean_squared_error: 0.1041\n",
      "Epoch 118/200\n",
      "4/4 [==============================] - 0s 7ms/step - loss: 0.1038 - mean_squared_error: 0.1038\n",
      "Epoch 119/200\n",
      "4/4 [==============================] - 0s 7ms/step - loss: 0.1034 - mean_squared_error: 0.1034\n",
      "Epoch 120/200\n",
      "4/4 [==============================] - 0s 7ms/step - loss: 0.1032 - mean_squared_error: 0.1032\n",
      "Epoch 121/200\n",
      "4/4 [==============================] - 0s 7ms/step - loss: 0.1028 - mean_squared_error: 0.1028\n",
      "Epoch 122/200\n",
      "4/4 [==============================] - 0s 8ms/step - loss: 0.1026 - mean_squared_error: 0.1026\n",
      "Epoch 123/200\n",
      "4/4 [==============================] - 0s 7ms/step - loss: 0.1023 - mean_squared_error: 0.1023\n",
      "Epoch 124/200\n",
      "4/4 [==============================] - 0s 8ms/step - loss: 0.1020 - mean_squared_error: 0.1020\n",
      "Epoch 125/200\n",
      "4/4 [==============================] - 0s 7ms/step - loss: 0.1017 - mean_squared_error: 0.1017\n",
      "Epoch 126/200\n",
      "4/4 [==============================] - 0s 7ms/step - loss: 0.1013 - mean_squared_error: 0.1013\n",
      "Epoch 127/200\n",
      "4/4 [==============================] - 0s 7ms/step - loss: 0.1011 - mean_squared_error: 0.1011\n",
      "Epoch 128/200\n",
      "4/4 [==============================] - 0s 8ms/step - loss: 0.1008 - mean_squared_error: 0.1008\n",
      "Epoch 129/200\n",
      "4/4 [==============================] - 0s 7ms/step - loss: 0.1005 - mean_squared_error: 0.1005\n",
      "Epoch 130/200\n",
      "4/4 [==============================] - 0s 7ms/step - loss: 0.1002 - mean_squared_error: 0.1002\n",
      "Epoch 131/200\n",
      "4/4 [==============================] - 0s 8ms/step - loss: 0.0999 - mean_squared_error: 0.0999\n",
      "Epoch 132/200\n",
      "4/4 [==============================] - 0s 7ms/step - loss: 0.0996 - mean_squared_error: 0.0996\n",
      "Epoch 133/200\n",
      "4/4 [==============================] - 0s 7ms/step - loss: 0.0994 - mean_squared_error: 0.0994\n",
      "Epoch 134/200\n",
      "4/4 [==============================] - 0s 8ms/step - loss: 0.0990 - mean_squared_error: 0.0990\n",
      "Epoch 135/200\n",
      "4/4 [==============================] - 0s 7ms/step - loss: 0.0988 - mean_squared_error: 0.0988\n",
      "Epoch 136/200\n",
      "4/4 [==============================] - 0s 7ms/step - loss: 0.0985 - mean_squared_error: 0.0985\n",
      "Epoch 137/200\n",
      "4/4 [==============================] - 0s 8ms/step - loss: 0.0982 - mean_squared_error: 0.0982\n",
      "Epoch 138/200\n",
      "4/4 [==============================] - 0s 7ms/step - loss: 0.0979 - mean_squared_error: 0.0979\n",
      "Epoch 139/200\n",
      "4/4 [==============================] - 0s 7ms/step - loss: 0.0976 - mean_squared_error: 0.0976\n",
      "Epoch 140/200\n",
      "4/4 [==============================] - 0s 8ms/step - loss: 0.0973 - mean_squared_error: 0.0973\n",
      "Epoch 141/200\n",
      "4/4 [==============================] - 0s 8ms/step - loss: 0.0970 - mean_squared_error: 0.0970\n",
      "Epoch 142/200\n",
      "4/4 [==============================] - 0s 8ms/step - loss: 0.0968 - mean_squared_error: 0.0968\n",
      "Epoch 143/200\n",
      "4/4 [==============================] - 0s 8ms/step - loss: 0.0965 - mean_squared_error: 0.0965\n",
      "Epoch 144/200\n",
      "4/4 [==============================] - 0s 8ms/step - loss: 0.0961 - mean_squared_error: 0.0961\n",
      "Epoch 145/200\n",
      "4/4 [==============================] - 0s 9ms/step - loss: 0.0959 - mean_squared_error: 0.0959\n",
      "Epoch 146/200\n",
      "4/4 [==============================] - 0s 8ms/step - loss: 0.0956 - mean_squared_error: 0.0956\n",
      "Epoch 147/200\n",
      "4/4 [==============================] - 0s 8ms/step - loss: 0.0953 - mean_squared_error: 0.0953\n",
      "Epoch 148/200\n",
      "4/4 [==============================] - 0s 8ms/step - loss: 0.0951 - mean_squared_error: 0.0951\n",
      "Epoch 149/200\n",
      "4/4 [==============================] - 0s 7ms/step - loss: 0.0948 - mean_squared_error: 0.0948\n",
      "Epoch 150/200\n",
      "4/4 [==============================] - 0s 7ms/step - loss: 0.0945 - mean_squared_error: 0.0945\n",
      "Epoch 151/200\n",
      "4/4 [==============================] - 0s 7ms/step - loss: 0.0942 - mean_squared_error: 0.0942\n",
      "Epoch 152/200\n",
      "4/4 [==============================] - 0s 7ms/step - loss: 0.0939 - mean_squared_error: 0.0939\n",
      "Epoch 153/200\n",
      "4/4 [==============================] - 0s 8ms/step - loss: 0.0937 - mean_squared_error: 0.0937\n",
      "Epoch 154/200\n",
      "4/4 [==============================] - 0s 7ms/step - loss: 0.0934 - mean_squared_error: 0.0934\n",
      "Epoch 155/200\n",
      "4/4 [==============================] - 0s 7ms/step - loss: 0.0931 - mean_squared_error: 0.0931\n",
      "Epoch 156/200\n",
      "4/4 [==============================] - 0s 7ms/step - loss: 0.0928 - mean_squared_error: 0.0928\n",
      "Epoch 157/200\n",
      "4/4 [==============================] - 0s 7ms/step - loss: 0.0925 - mean_squared_error: 0.0925\n",
      "Epoch 158/200\n",
      "4/4 [==============================] - 0s 7ms/step - loss: 0.0923 - mean_squared_error: 0.0923\n",
      "Epoch 159/200\n",
      "4/4 [==============================] - 0s 8ms/step - loss: 0.0920 - mean_squared_error: 0.0920\n",
      "Epoch 160/200\n",
      "4/4 [==============================] - 0s 7ms/step - loss: 0.0917 - mean_squared_error: 0.0917\n",
      "Epoch 161/200\n",
      "4/4 [==============================] - 0s 8ms/step - loss: 0.0914 - mean_squared_error: 0.0914\n",
      "Epoch 162/200\n",
      "4/4 [==============================] - 0s 7ms/step - loss: 0.0911 - mean_squared_error: 0.0911\n",
      "Epoch 163/200\n",
      "4/4 [==============================] - 0s 8ms/step - loss: 0.0909 - mean_squared_error: 0.0909\n",
      "Epoch 164/200\n",
      "4/4 [==============================] - 0s 7ms/step - loss: 0.0907 - mean_squared_error: 0.0907\n",
      "Epoch 165/200\n",
      "4/4 [==============================] - 0s 7ms/step - loss: 0.0904 - mean_squared_error: 0.0904\n",
      "Epoch 166/200\n",
      "4/4 [==============================] - 0s 8ms/step - loss: 0.0900 - mean_squared_error: 0.0900\n",
      "Epoch 167/200\n",
      "4/4 [==============================] - 0s 8ms/step - loss: 0.0898 - mean_squared_error: 0.0898\n",
      "Epoch 168/200\n",
      "4/4 [==============================] - 0s 8ms/step - loss: 0.0895 - mean_squared_error: 0.0895\n",
      "Epoch 169/200\n",
      "4/4 [==============================] - 0s 7ms/step - loss: 0.0893 - mean_squared_error: 0.0893\n",
      "Epoch 170/200\n",
      "4/4 [==============================] - 0s 7ms/step - loss: 0.0889 - mean_squared_error: 0.0889\n",
      "Epoch 171/200\n",
      "4/4 [==============================] - 0s 7ms/step - loss: 0.0888 - mean_squared_error: 0.0888\n",
      "Epoch 172/200\n",
      "4/4 [==============================] - 0s 7ms/step - loss: 0.0884 - mean_squared_error: 0.0884\n",
      "Epoch 173/200\n",
      "4/4 [==============================] - 0s 8ms/step - loss: 0.0882 - mean_squared_error: 0.0882\n",
      "Epoch 174/200\n",
      "4/4 [==============================] - 0s 7ms/step - loss: 0.0879 - mean_squared_error: 0.0879\n",
      "Epoch 175/200\n",
      "4/4 [==============================] - 0s 7ms/step - loss: 0.0876 - mean_squared_error: 0.0876\n",
      "Epoch 176/200\n",
      "4/4 [==============================] - 0s 7ms/step - loss: 0.0874 - mean_squared_error: 0.0874\n",
      "Epoch 177/200\n",
      "4/4 [==============================] - 0s 7ms/step - loss: 0.0871 - mean_squared_error: 0.0871\n",
      "Epoch 178/200\n",
      "4/4 [==============================] - 0s 7ms/step - loss: 0.0868 - mean_squared_error: 0.0868\n",
      "Epoch 179/200\n",
      "4/4 [==============================] - 0s 7ms/step - loss: 0.0865 - mean_squared_error: 0.0865\n",
      "Epoch 180/200\n",
      "4/4 [==============================] - 0s 7ms/step - loss: 0.0863 - mean_squared_error: 0.0863\n",
      "Epoch 181/200\n",
      "4/4 [==============================] - 0s 7ms/step - loss: 0.0860 - mean_squared_error: 0.0860\n",
      "Epoch 182/200\n",
      "4/4 [==============================] - 0s 7ms/step - loss: 0.0857 - mean_squared_error: 0.0857\n",
      "Epoch 183/200\n",
      "4/4 [==============================] - 0s 7ms/step - loss: 0.0854 - mean_squared_error: 0.0854\n",
      "Epoch 184/200\n",
      "4/4 [==============================] - 0s 7ms/step - loss: 0.0852 - mean_squared_error: 0.0852\n",
      "Epoch 185/200\n",
      "4/4 [==============================] - 0s 7ms/step - loss: 0.0850 - mean_squared_error: 0.0850\n",
      "Epoch 186/200\n",
      "4/4 [==============================] - 0s 7ms/step - loss: 0.0846 - mean_squared_error: 0.0846\n",
      "Epoch 187/200\n",
      "4/4 [==============================] - 0s 7ms/step - loss: 0.0844 - mean_squared_error: 0.0844\n",
      "Epoch 188/200\n",
      "4/4 [==============================] - 0s 7ms/step - loss: 0.0841 - mean_squared_error: 0.0841\n",
      "Epoch 189/200\n",
      "4/4 [==============================] - 0s 7ms/step - loss: 0.0839 - mean_squared_error: 0.0839\n",
      "Epoch 190/200\n",
      "4/4 [==============================] - 0s 7ms/step - loss: 0.0835 - mean_squared_error: 0.0835\n",
      "Epoch 191/200\n",
      "4/4 [==============================] - 0s 7ms/step - loss: 0.0834 - mean_squared_error: 0.0834\n",
      "Epoch 192/200\n",
      "4/4 [==============================] - 0s 7ms/step - loss: 0.0830 - mean_squared_error: 0.0830\n",
      "Epoch 193/200\n",
      "4/4 [==============================] - 0s 8ms/step - loss: 0.0828 - mean_squared_error: 0.0828\n",
      "Epoch 194/200\n",
      "4/4 [==============================] - 0s 7ms/step - loss: 0.0825 - mean_squared_error: 0.0825\n",
      "Epoch 195/200\n",
      "4/4 [==============================] - 0s 7ms/step - loss: 0.0823 - mean_squared_error: 0.0823\n",
      "Epoch 196/200\n",
      "4/4 [==============================] - 0s 7ms/step - loss: 0.0820 - mean_squared_error: 0.0820\n",
      "Epoch 197/200\n",
      "4/4 [==============================] - 0s 7ms/step - loss: 0.0817 - mean_squared_error: 0.0817\n",
      "Epoch 198/200\n",
      "4/4 [==============================] - 0s 8ms/step - loss: 0.0814 - mean_squared_error: 0.0814\n",
      "Epoch 199/200\n",
      "4/4 [==============================] - 0s 7ms/step - loss: 0.0812 - mean_squared_error: 0.0812\n",
      "Epoch 200/200\n",
      "4/4 [==============================] - 0s 8ms/step - loss: 0.0809 - mean_squared_error: 0.0809\n"
     ]
    }
   ],
   "source": [
    "history = model.fit(X, y, epochs=200, batch_size=1)"
   ],
   "metadata": {
    "collapsed": false,
    "pycharm": {
     "name": "#%%\n"
    }
   }
  },
  {
   "cell_type": "code",
   "execution_count": 13,
   "outputs": [
    {
     "name": "stdout",
     "output_type": "stream",
     "text": [
      "Model: \"sequential_2\"\n",
      "_________________________________________________________________\n",
      " Layer (type)                Output Shape              Param #   \n",
      "=================================================================\n",
      " dense_3 (Dense)             (None, 2)                 6         \n",
      "                                                                 \n",
      " dense_4 (Dense)             (None, 1)                 3         \n",
      "                                                                 \n",
      "=================================================================\n",
      "Total params: 9\n",
      "Trainable params: 9\n",
      "Non-trainable params: 0\n",
      "_________________________________________________________________\n"
     ]
    }
   ],
   "source": [
    "model.summary()"
   ],
   "metadata": {
    "collapsed": false,
    "pycharm": {
     "name": "#%%\n"
    }
   }
  },
  {
   "cell_type": "code",
   "execution_count": 14,
   "outputs": [
    {
     "name": "stderr",
     "output_type": "stream",
     "text": [
      "2022-05-19 14:20:54.173662: I tensorflow/core/grappler/optimizers/custom_graph_optimizer_registry.cc:113] Plugin optimizer for device_type GPU is enabled.\n"
     ]
    },
    {
     "data": {
      "text/plain": "array([[0.48558134]], dtype=float32)"
     },
     "execution_count": 14,
     "metadata": {},
     "output_type": "execute_result"
    }
   ],
   "source": [
    "# Model Prediction\n",
    "model.predict(np.array([[0,0]]))"
   ],
   "metadata": {
    "collapsed": false,
    "pycharm": {
     "name": "#%%\n"
    }
   }
  },
  {
   "cell_type": "code",
   "execution_count": 15,
   "outputs": [
    {
     "data": {
      "text/plain": "[array([[ 0.10177382,  1.2677077 ],\n        [-1.0043843 , -0.1423107 ]], dtype=float32),\n array([ 0.01717393, -0.01435319], dtype=float32),\n array([[-1.384692 ],\n        [ 1.5022721]], dtype=float32),\n array([-0.01234779], dtype=float32)]"
     },
     "execution_count": 15,
     "metadata": {},
     "output_type": "execute_result"
    }
   ],
   "source": [
    "# Model Weights\n",
    "# <weight, bias> pairs\n",
    "\n",
    "weights = model.get_weights()\n",
    "weights"
   ],
   "metadata": {
    "collapsed": false,
    "pycharm": {
     "name": "#%%\n"
    }
   }
  },
  {
   "cell_type": "code",
   "execution_count": 16,
   "outputs": [
    {
     "name": "stdout",
     "output_type": "stream",
     "text": [
      "You must install pydot (`pip install pydot`) and install graphviz (see instructions at https://graphviz.gitlab.io/download/) for plot_model/model_to_dot to work.\n"
     ]
    }
   ],
   "source": [
    "# Model Visualization\n",
    "\n",
    "from keras.utils.vis_utils import plot_model\n",
    "plot_model(model, to_file='model_plot.png', show_shapes=True, show_layer_names=True)"
   ],
   "metadata": {
    "collapsed": false,
    "pycharm": {
     "name": "#%%\n"
    }
   }
  }
 ],
 "metadata": {
  "kernelspec": {
   "display_name": "Python 3",
   "language": "python",
   "name": "python3"
  },
  "language_info": {
   "codemirror_mode": {
    "name": "ipython",
    "version": 2
   },
   "file_extension": ".py",
   "mimetype": "text/x-python",
   "name": "python",
   "nbconvert_exporter": "python",
   "pygments_lexer": "ipython2",
   "version": "2.7.6"
  }
 },
 "nbformat": 4,
 "nbformat_minor": 0
}